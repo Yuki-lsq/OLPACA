{
 "cells": [
  {
   "cell_type": "code",
   "execution_count": 1,
   "metadata": {
    "id": "ed1oQiqtB0gM"
   },
   "outputs": [],
   "source": [
    "import warnings\n",
    "\n",
    "warnings.filterwarnings(\"ignore\", category=ImportWarning)\n",
    "warnings.filterwarnings(\"ignore\", category=DeprecationWarning, module=\"ipykernel\")"
   ]
  },
  {
   "cell_type": "code",
   "execution_count": 3,
   "metadata": {
    "id": "dzM0sXTj_fGz"
   },
   "outputs": [
    {
     "name": "stderr",
     "output_type": "stream",
     "text": [
      "/Users/hsuan/opt/anaconda3/lib/python3.9/site-packages/scipy/__init__.py:155: UserWarning: A NumPy version >=1.18.5 and <1.25.0 is required for this version of SciPy (detected version 1.26.2\n",
      "  warnings.warn(f\"A NumPy version >={np_minversion} and <{np_maxversion}\"\n"
     ]
    },
    {
     "ename": "SystemError",
     "evalue": "initialization of _internal failed without raising an exception",
     "output_type": "error",
     "traceback": [
      "\u001b[0;31m---------------------------------------------------------------------------\u001b[0m",
      "\u001b[0;31mSystemError\u001b[0m                               Traceback (most recent call last)",
      "\u001b[0;32m/var/folders/tp/d1jzmwhj2dq539mj5_53vqwc0000gn/T/ipykernel_76666/274266633.py\u001b[0m in \u001b[0;36m<module>\u001b[0;34m\u001b[0m\n\u001b[1;32m     12\u001b[0m \u001b[0mwarnings\u001b[0m\u001b[0;34m.\u001b[0m\u001b[0mfilterwarnings\u001b[0m\u001b[0;34m(\u001b[0m\u001b[0;34m\"ignore\"\u001b[0m\u001b[0;34m,\u001b[0m \u001b[0mcategory\u001b[0m\u001b[0;34m=\u001b[0m\u001b[0mDeprecationWarning\u001b[0m\u001b[0;34m,\u001b[0m \u001b[0mmodule\u001b[0m\u001b[0;34m=\u001b[0m\u001b[0;34m\"ipykernel\"\u001b[0m\u001b[0;34m)\u001b[0m\u001b[0;34m\u001b[0m\u001b[0;34m\u001b[0m\u001b[0m\n\u001b[1;32m     13\u001b[0m \u001b[0;34m\u001b[0m\u001b[0m\n\u001b[0;32m---> 14\u001b[0;31m \u001b[0;32mfrom\u001b[0m \u001b[0mpythermalcomfort\u001b[0m\u001b[0;34m.\u001b[0m\u001b[0mmodels\u001b[0m \u001b[0;32mimport\u001b[0m \u001b[0mJOS3\u001b[0m\u001b[0;34m\u001b[0m\u001b[0;34m\u001b[0m\u001b[0m\n\u001b[0m",
      "\u001b[0;32m~/opt/anaconda3/lib/python3.9/site-packages/pythermalcomfort/__init__.py\u001b[0m in \u001b[0;36m<module>\u001b[0;34m\u001b[0m\n\u001b[1;32m      1\u001b[0m \u001b[0m__version__\u001b[0m \u001b[0;34m=\u001b[0m \u001b[0;34m\"__version__ = '2.8.10'\"\u001b[0m\u001b[0;34m\u001b[0m\u001b[0;34m\u001b[0m\u001b[0m\n\u001b[1;32m      2\u001b[0m \u001b[0;34m\u001b[0m\u001b[0m\n\u001b[0;32m----> 3\u001b[0;31m \u001b[0;32mfrom\u001b[0m \u001b[0mpythermalcomfort\u001b[0m\u001b[0;34m.\u001b[0m\u001b[0mmodels\u001b[0m \u001b[0;32mimport\u001b[0m \u001b[0;34m*\u001b[0m\u001b[0;34m\u001b[0m\u001b[0;34m\u001b[0m\u001b[0m\n\u001b[0m",
      "\u001b[0;32m~/opt/anaconda3/lib/python3.9/site-packages/pythermalcomfort/models/__init__.py\u001b[0m in \u001b[0;36m<module>\u001b[0;34m\u001b[0m\n\u001b[1;32m      5\u001b[0m \u001b[0;32mfrom\u001b[0m \u001b[0mpythermalcomfort\u001b[0m\u001b[0;34m.\u001b[0m\u001b[0mmodels\u001b[0m\u001b[0;34m.\u001b[0m\u001b[0mat\u001b[0m \u001b[0;32mimport\u001b[0m \u001b[0mat\u001b[0m\u001b[0;34m\u001b[0m\u001b[0;34m\u001b[0m\u001b[0m\n\u001b[1;32m      6\u001b[0m \u001b[0;32mfrom\u001b[0m \u001b[0mpythermalcomfort\u001b[0m\u001b[0;34m.\u001b[0m\u001b[0mmodels\u001b[0m\u001b[0;34m.\u001b[0m\u001b[0msolar_gain\u001b[0m \u001b[0;32mimport\u001b[0m \u001b[0msolar_gain\u001b[0m\u001b[0;34m\u001b[0m\u001b[0;34m\u001b[0m\u001b[0m\n\u001b[0;32m----> 7\u001b[0;31m \u001b[0;32mfrom\u001b[0m \u001b[0mpythermalcomfort\u001b[0m\u001b[0;34m.\u001b[0m\u001b[0mmodels\u001b[0m\u001b[0;34m.\u001b[0m\u001b[0mcooling_effect\u001b[0m \u001b[0;32mimport\u001b[0m \u001b[0mcooling_effect\u001b[0m\u001b[0;34m\u001b[0m\u001b[0;34m\u001b[0m\u001b[0m\n\u001b[0m\u001b[1;32m      8\u001b[0m \u001b[0;32mfrom\u001b[0m \u001b[0mpythermalcomfort\u001b[0m\u001b[0;34m.\u001b[0m\u001b[0mmodels\u001b[0m\u001b[0;34m.\u001b[0m\u001b[0mpmv_ppd\u001b[0m \u001b[0;32mimport\u001b[0m \u001b[0mpmv_ppd\u001b[0m\u001b[0;34m\u001b[0m\u001b[0;34m\u001b[0m\u001b[0m\n\u001b[1;32m      9\u001b[0m \u001b[0;32mfrom\u001b[0m \u001b[0mpythermalcomfort\u001b[0m\u001b[0;34m.\u001b[0m\u001b[0mmodels\u001b[0m\u001b[0;34m.\u001b[0m\u001b[0mpmv\u001b[0m \u001b[0;32mimport\u001b[0m \u001b[0mpmv\u001b[0m\u001b[0;34m\u001b[0m\u001b[0;34m\u001b[0m\u001b[0m\n",
      "\u001b[0;32m~/opt/anaconda3/lib/python3.9/site-packages/pythermalcomfort/models/cooling_effect.py\u001b[0m in \u001b[0;36m<module>\u001b[0;34m\u001b[0m\n\u001b[1;32m      6\u001b[0m     \u001b[0munits_converter\u001b[0m\u001b[0;34m,\u001b[0m\u001b[0;34m\u001b[0m\u001b[0;34m\u001b[0m\u001b[0m\n\u001b[1;32m      7\u001b[0m )\n\u001b[0;32m----> 8\u001b[0;31m \u001b[0;32mfrom\u001b[0m \u001b[0mpythermalcomfort\u001b[0m\u001b[0;34m.\u001b[0m\u001b[0mmodels\u001b[0m\u001b[0;34m.\u001b[0m\u001b[0mset_tmp\u001b[0m \u001b[0;32mimport\u001b[0m \u001b[0mset_tmp\u001b[0m\u001b[0;34m\u001b[0m\u001b[0;34m\u001b[0m\u001b[0m\n\u001b[0m\u001b[1;32m      9\u001b[0m \u001b[0;34m\u001b[0m\u001b[0m\n\u001b[1;32m     10\u001b[0m \u001b[0;34m\u001b[0m\u001b[0m\n",
      "\u001b[0;32m~/opt/anaconda3/lib/python3.9/site-packages/pythermalcomfort/models/set_tmp.py\u001b[0m in \u001b[0;36m<module>\u001b[0;34m\u001b[0m\n\u001b[1;32m      1\u001b[0m \u001b[0;32mimport\u001b[0m \u001b[0mnumpy\u001b[0m \u001b[0;32mas\u001b[0m \u001b[0mnp\u001b[0m\u001b[0;34m\u001b[0m\u001b[0;34m\u001b[0m\u001b[0m\n\u001b[1;32m      2\u001b[0m \u001b[0;34m\u001b[0m\u001b[0m\n\u001b[0;32m----> 3\u001b[0;31m \u001b[0;32mfrom\u001b[0m \u001b[0mpythermalcomfort\u001b[0m\u001b[0;34m.\u001b[0m\u001b[0mmodels\u001b[0m\u001b[0;34m.\u001b[0m\u001b[0mtwo_nodes\u001b[0m \u001b[0;32mimport\u001b[0m \u001b[0mtwo_nodes\u001b[0m\u001b[0;34m\u001b[0m\u001b[0;34m\u001b[0m\u001b[0m\n\u001b[0m\u001b[1;32m      4\u001b[0m from pythermalcomfort.utilities import (\n\u001b[1;32m      5\u001b[0m     \u001b[0munits_converter\u001b[0m\u001b[0;34m,\u001b[0m\u001b[0;34m\u001b[0m\u001b[0;34m\u001b[0m\u001b[0m\n",
      "\u001b[0;32m~/opt/anaconda3/lib/python3.9/site-packages/pythermalcomfort/models/two_nodes.py\u001b[0m in \u001b[0;36m<module>\u001b[0;34m\u001b[0m\n\u001b[1;32m      2\u001b[0m \u001b[0;34m\u001b[0m\u001b[0m\n\u001b[1;32m      3\u001b[0m \u001b[0;32mimport\u001b[0m \u001b[0mnumpy\u001b[0m \u001b[0;32mas\u001b[0m \u001b[0mnp\u001b[0m\u001b[0;34m\u001b[0m\u001b[0;34m\u001b[0m\u001b[0m\n\u001b[0;32m----> 4\u001b[0;31m \u001b[0;32mfrom\u001b[0m \u001b[0mnumba\u001b[0m \u001b[0;32mimport\u001b[0m \u001b[0mjit\u001b[0m\u001b[0;34m,\u001b[0m \u001b[0mvectorize\u001b[0m\u001b[0;34m,\u001b[0m \u001b[0mfloat64\u001b[0m\u001b[0;34m\u001b[0m\u001b[0;34m\u001b[0m\u001b[0m\n\u001b[0m\u001b[1;32m      5\u001b[0m \u001b[0;34m\u001b[0m\u001b[0m\n\u001b[1;32m      6\u001b[0m \u001b[0;32mfrom\u001b[0m \u001b[0mpythermalcomfort\u001b[0m\u001b[0;34m.\u001b[0m\u001b[0mpsychrometrics\u001b[0m \u001b[0;32mimport\u001b[0m \u001b[0mp_sat_torr\u001b[0m\u001b[0;34m\u001b[0m\u001b[0;34m\u001b[0m\u001b[0m\n",
      "\u001b[0;32m~/opt/anaconda3/lib/python3.9/site-packages/numba/__init__.py\u001b[0m in \u001b[0;36m<module>\u001b[0;34m\u001b[0m\n\u001b[1;32m     40\u001b[0m \u001b[0;34m\u001b[0m\u001b[0m\n\u001b[1;32m     41\u001b[0m \u001b[0;31m# Re-export vectorize decorators and the thread layer querying function\u001b[0m\u001b[0;34m\u001b[0m\u001b[0;34m\u001b[0m\u001b[0m\n\u001b[0;32m---> 42\u001b[0;31m from numba.np.ufunc import (vectorize, guvectorize, threading_layer,\n\u001b[0m\u001b[1;32m     43\u001b[0m                             get_num_threads, set_num_threads)\n\u001b[1;32m     44\u001b[0m \u001b[0;34m\u001b[0m\u001b[0m\n",
      "\u001b[0;32m~/opt/anaconda3/lib/python3.9/site-packages/numba/np/ufunc/__init__.py\u001b[0m in \u001b[0;36m<module>\u001b[0;34m\u001b[0m\n\u001b[1;32m      1\u001b[0m \u001b[0;31m# -*- coding: utf-8 -*-\u001b[0m\u001b[0;34m\u001b[0m\u001b[0;34m\u001b[0m\u001b[0m\n\u001b[1;32m      2\u001b[0m \u001b[0;34m\u001b[0m\u001b[0m\n\u001b[0;32m----> 3\u001b[0;31m \u001b[0;32mfrom\u001b[0m \u001b[0mnumba\u001b[0m\u001b[0;34m.\u001b[0m\u001b[0mnp\u001b[0m\u001b[0;34m.\u001b[0m\u001b[0mufunc\u001b[0m\u001b[0;34m.\u001b[0m\u001b[0mdecorators\u001b[0m \u001b[0;32mimport\u001b[0m \u001b[0mVectorize\u001b[0m\u001b[0;34m,\u001b[0m \u001b[0mGUVectorize\u001b[0m\u001b[0;34m,\u001b[0m \u001b[0mvectorize\u001b[0m\u001b[0;34m,\u001b[0m \u001b[0mguvectorize\u001b[0m\u001b[0;34m\u001b[0m\u001b[0;34m\u001b[0m\u001b[0m\n\u001b[0m\u001b[1;32m      4\u001b[0m \u001b[0;32mfrom\u001b[0m \u001b[0mnumba\u001b[0m\u001b[0;34m.\u001b[0m\u001b[0mnp\u001b[0m\u001b[0;34m.\u001b[0m\u001b[0mufunc\u001b[0m\u001b[0;34m.\u001b[0m\u001b[0m_internal\u001b[0m \u001b[0;32mimport\u001b[0m \u001b[0mPyUFunc_None\u001b[0m\u001b[0;34m,\u001b[0m \u001b[0mPyUFunc_Zero\u001b[0m\u001b[0;34m,\u001b[0m \u001b[0mPyUFunc_One\u001b[0m\u001b[0;34m\u001b[0m\u001b[0;34m\u001b[0m\u001b[0m\n\u001b[1;32m      5\u001b[0m \u001b[0;32mfrom\u001b[0m \u001b[0mnumba\u001b[0m\u001b[0;34m.\u001b[0m\u001b[0mnp\u001b[0m\u001b[0;34m.\u001b[0m\u001b[0mufunc\u001b[0m \u001b[0;32mimport\u001b[0m \u001b[0m_internal\u001b[0m\u001b[0;34m,\u001b[0m \u001b[0marray_exprs\u001b[0m\u001b[0;34m\u001b[0m\u001b[0;34m\u001b[0m\u001b[0m\n",
      "\u001b[0;32m~/opt/anaconda3/lib/python3.9/site-packages/numba/np/ufunc/decorators.py\u001b[0m in \u001b[0;36m<module>\u001b[0;34m\u001b[0m\n\u001b[1;32m      1\u001b[0m \u001b[0;32mimport\u001b[0m \u001b[0minspect\u001b[0m\u001b[0;34m\u001b[0m\u001b[0;34m\u001b[0m\u001b[0m\n\u001b[1;32m      2\u001b[0m \u001b[0;34m\u001b[0m\u001b[0m\n\u001b[0;32m----> 3\u001b[0;31m \u001b[0;32mfrom\u001b[0m \u001b[0mnumba\u001b[0m\u001b[0;34m.\u001b[0m\u001b[0mnp\u001b[0m\u001b[0;34m.\u001b[0m\u001b[0mufunc\u001b[0m \u001b[0;32mimport\u001b[0m \u001b[0m_internal\u001b[0m\u001b[0;34m\u001b[0m\u001b[0;34m\u001b[0m\u001b[0m\n\u001b[0m\u001b[1;32m      4\u001b[0m \u001b[0;32mfrom\u001b[0m \u001b[0mnumba\u001b[0m\u001b[0;34m.\u001b[0m\u001b[0mnp\u001b[0m\u001b[0;34m.\u001b[0m\u001b[0mufunc\u001b[0m\u001b[0;34m.\u001b[0m\u001b[0mparallel\u001b[0m \u001b[0;32mimport\u001b[0m \u001b[0mParallelUFuncBuilder\u001b[0m\u001b[0;34m,\u001b[0m \u001b[0mParallelGUFuncBuilder\u001b[0m\u001b[0;34m\u001b[0m\u001b[0;34m\u001b[0m\u001b[0m\n\u001b[1;32m      5\u001b[0m \u001b[0;34m\u001b[0m\u001b[0m\n",
      "\u001b[0;31mSystemError\u001b[0m: initialization of _internal failed without raising an exception"
     ]
    }
   ],
   "source": [
    "import os\n",
    "from os.path import join\n",
    "import numpy as np\n",
    "import pandas as pd\n",
    "import random\n",
    "import time\n",
    "from scipy.stats import linregress\n",
    "\n",
    "random.seed(4738)\n",
    "\n",
    "warnings.filterwarnings(\"ignore\", category=ImportWarning)\n",
    "warnings.filterwarnings(\"ignore\", category=DeprecationWarning, module=\"ipykernel\")\n",
    "\n",
    "from pythermalcomfort.models import JOS3"
   ]
  },
  {
   "cell_type": "code",
   "execution_count": null,
   "metadata": {
    "colab": {
     "base_uri": "https://localhost:8080/",
     "height": 441
    },
    "id": "4R08_kMNWJP0",
    "outputId": "bfe4898c-1ff7-4eb7-c7e9-55eee68f0f59"
   },
   "outputs": [],
   "source": [
    "home = os.getcwd()\n",
    "out = join(home, \"output\")\n",
    "healthTable = pd.read_csv(join(home, \"Health Data.csv\"))\n",
    "healthTable"
   ]
  },
  {
   "cell_type": "markdown",
   "metadata": {
    "id": "i14XoTAuju6k"
   },
   "source": [
    "Assume we have 100 users, so we will have 100 personal health data. And if we got 10 time points of weather data (e.g. per-30-mins data for 5 hours), we will have 100 × 30 data points of perceived temperature."
   ]
  },
  {
   "cell_type": "code",
   "execution_count": null,
   "metadata": {
    "id": "hoGnJmjYduEM"
   },
   "outputs": [],
   "source": [
    "def getSexCode(sex):\n",
    "\n",
    "  if sex == \"Male\":\n",
    "    return 0\n",
    "\n",
    "  elif sex == \"Female\":\n",
    "    return 1\n",
    "\n",
    "  else:\n",
    "    return random.randint(0,1)"
   ]
  },
  {
   "cell_type": "code",
   "execution_count": null,
   "metadata": {
    "id": "d9c19UG-Q7GW"
   },
   "outputs": [],
   "source": [
    "def getStrokeVolume(sexCode, age):\n",
    "\n",
    "  if sexCode == 0:\n",
    "    coef1 = np.polyfit([30, 50, 70], [39, 37, 35], 0)\n",
    "    # coef2 = np.polyfit([30, 50, 70], [91, 83, 75], 0)\n",
    "    coef2 = np.polyfit([30, 50, 70], [104, 95, 87], 0)\n",
    "\n",
    "  else:\n",
    "    coef1 = np.polyfit([30, 50, 70], [34, 30, 27], 0)\n",
    "    # coef2 = np.polyfit([30, 50, 70], [72, 66, 60], 0)\n",
    "    coef2 = np.polyfit([30, 50, 70], [84, 78, 72], 0)\n",
    "\n",
    "  low_lm = np.poly1d(coef1)\n",
    "  up_lm = np.poly1d(coef2)\n",
    "\n",
    "  lowSV = low_lm(age)/1000\n",
    "  upSV = up_lm(age)/1000\n",
    "\n",
    "  midSV = 0.3*lowSV + 0.7*upSV\n",
    "\n",
    "  return np.random.choice([random.uniform(lowSV, midSV), random.uniform(midSV, upSV)], 1, p = [0.4, 0.6])[0]"
   ]
  },
  {
   "cell_type": "code",
   "execution_count": null,
   "metadata": {
    "id": "j6IUrV_ujBPN"
   },
   "outputs": [],
   "source": [
    "def assumption_data_generator (N, sex):\n",
    "  ### note: this is the draft framework of generating assumption data, could be amended.\n",
    "  # N: number of data points\n",
    "  # sex: the sex of the dataset\n",
    "  sex = sex.title()\n",
    "  sexCode = getSexCode(sex)\n",
    "  chooseSex = True if sex == \"Unknown\" else False\n",
    "\n",
    "  df = {\"sex\":[], \"age\":[], \"height\":[], \"weight\":[], \"BMI\":[], \"freqOfExercise\":[], \"CI\":[]}\n",
    "\n",
    "  for i in range(N):\n",
    "\n",
    "    # check if we should randomly pick a gender\n",
    "    if chooseSex:\n",
    "      sexCode = getSexCode(sex)\n",
    "      sex = \"Male\" if sexCode == 0 else \"Female\"\n",
    "\n",
    "    df[\"sex\"].append(sexCode)\n",
    "\n",
    "    # generate age depending on population\n",
    "    if sex == 0:\n",
    "      p_age = [0.09, 0.19, 0.17, 0.17, 0.16, 0.21]\n",
    "      p_freq = [0.47, 0.23, 0.2, 0.1]\n",
    "    else:\n",
    "      p_age = [0.08, 0.19, 0.17, 0.17, 0.16, 0.23]\n",
    "      p_freq = [0.66, 0.15, 0.12, 0.07]\n",
    "\n",
    "    age = np.random.choice([random.randint(18,24), random.randint(25,34), random.randint(35,44), random.randint(45,54), random.randint(55,64), random.randint(65,86)], 1, p = p_age)[0]\n",
    "    df[\"age\"].append(age)\n",
    "\n",
    "    # get the row id of the current data point\n",
    "    rID = healthTable[(healthTable[\"Age\"] <= age) & (healthTable[\"Sex\"] == sex)].index[-1]\n",
    "\n",
    "    # height\n",
    "    height = round(np.random.normal(healthTable.loc[rID, \"AvgHeight\"], healthTable.loc[rID, \"RSEHeight\"]), 2)\n",
    "    df[\"height\"].append(height)\n",
    "\n",
    "    # weight\n",
    "    weight = round(np.random.normal(healthTable.loc[rID, \"AvgWeight\"], healthTable.loc[rID, \"RSEWeight\"]), 2)\n",
    "    df[\"weight\"].append(weight)\n",
    "\n",
    "    # calculate the BMI\n",
    "    df[\"BMI\"].append(round(weight/((height/100)**2), 2))\n",
    "\n",
    "    # generate the freq of exercise\n",
    "    if age >= 80:\n",
    "      freqExercise = random.randint(0,1)\n",
    "    elif age >= 65:\n",
    "      freqExercise = random.randint(0,2)\n",
    "    else:\n",
    "      freqExercise = np.random.choice([random.randint(0,1), random.randint(2,3), random.randint(4,5), random.randint(6,7)], 1, p = p_freq)[0]\n",
    "\n",
    "    df[\"freqOfExercise\"].append(freqExercise)\n",
    "\n",
    "    ### calculation of Cardiac index\n",
    "    # generate the Heart Rate\n",
    "    freq_type = int(freqExercise/2) + 1\n",
    "    lowHR = healthTable.loc[rID, \"LowerHR\"+str(freq_type)]\n",
    "    upHR = healthTable.loc[rID, \"UpperHR\"+str(freq_type)]\n",
    "    HR = random.randint(lowHR, upHR)\n",
    "\n",
    "    # generate the Stroke Volume data\n",
    "    SV = getStrokeVolume(sexCode, age)\n",
    "\n",
    "    # calculate BSA\n",
    "    BSA = np.sqrt(height*weight/3600)\n",
    "\n",
    "    # calculate CI (normal range: 2.5~4.2 L/min/m^2)\n",
    "    CI = (SV*HR) / BSA\n",
    "    df[\"CI\"].append(CI)\n",
    "\n",
    "  return pd.DataFrame(df)"
   ]
  },
  {
   "cell_type": "code",
   "execution_count": null,
   "metadata": {
    "colab": {
     "base_uri": "https://localhost:8080/",
     "height": 204
    },
    "id": "hL16RiSdybMI",
    "outputId": "05560834-8773-434c-c660-97615c1cbd7c"
   },
   "outputs": [],
   "source": [
    "data = pd.concat([assumption_data_generator(5, \"Male\"), assumption_data_generator(5, \"Female\")], ignore_index=True)\n",
    "data.insert(0, \"PersonID\", range(1, len(data)+1))\n",
    "data.to_csv(join(out, \"example.csv\"))\n",
    "data.head()"
   ]
  },
  {
   "cell_type": "markdown",
   "metadata": {
    "id": "Suz1X30I9MjJ"
   },
   "source": [
    "TBD: how to generate data with unknown sex? One possible way is to randomly chose one of genders and gernate the data; the other is use the general distribution of height and weight."
   ]
  },
  {
   "cell_type": "code",
   "execution_count": null,
   "metadata": {
    "colab": {
     "base_uri": "https://localhost:8080/",
     "height": 359
    },
    "id": "y0M1YDO64zqg",
    "outputId": "0fc94f31-aea3-44ff-a326-3262a1a1fca5"
   },
   "outputs": [],
   "source": [
    "data"
   ]
  },
  {
   "cell_type": "code",
   "execution_count": null,
   "metadata": {
    "colab": {
     "base_uri": "https://localhost:8080/",
     "height": 317
    },
    "id": "Bp4DCxc_2cXH",
    "outputId": "c285ffb9-835d-46e0-c8b1-fac11ba0d8d3"
   },
   "outputs": [],
   "source": [
    "data.describe(include=\"all\")"
   ]
  },
  {
   "cell_type": "markdown",
   "metadata": {
    "id": "B9YoLeBVtSDf"
   },
   "source": [
    "The following part is for combining actual weather data and assumption data."
   ]
  },
  {
   "cell_type": "code",
   "execution_count": null,
   "metadata": {
    "colab": {
     "base_uri": "https://localhost:8080/",
     "height": 439
    },
    "id": "6jjDF71Ctg4r",
    "outputId": "03da9975-534d-4423-d00c-a20aa3256529"
   },
   "outputs": [],
   "source": [
    "morningWeather = pd.read_csv(join(home, \"MorningWeatherDataset.csv\"), index_col=0)\n",
    "morningWeather"
   ]
  },
  {
   "cell_type": "code",
   "execution_count": null,
   "metadata": {
    "colab": {
     "base_uri": "https://localhost:8080/",
     "height": 439
    },
    "id": "siB8_DJPuHUa",
    "outputId": "0dcfe0d5-78f1-498b-ac21-a0ae225a0f07"
   },
   "outputs": [],
   "source": [
    "afternoonWeather = pd.read_csv(join(home, \"AfternoonWeatherDataset.csv\"), index_col=0)\n",
    "afternoonWeather"
   ]
  },
  {
   "cell_type": "code",
   "execution_count": null,
   "metadata": {
    "colab": {
     "base_uri": "https://localhost:8080/",
     "height": 439
    },
    "id": "FcmM1RhXuPQc",
    "outputId": "3dfa072d-8b3b-4d1a-bffd-4ac895d2999b"
   },
   "outputs": [],
   "source": [
    "MorningData = pd.merge(morningWeather, data, how=\"cross\")\n",
    "#MorningData.to_csv(join(out, \"MorningDataset.csv\"))\n",
    "MorningData"
   ]
  },
  {
   "cell_type": "code",
   "execution_count": null,
   "metadata": {
    "colab": {
     "base_uri": "https://localhost:8080/",
     "height": 439
    },
    "id": "V2m4NP5C4qVu",
    "outputId": "0ba47d86-16c7-4516-d8b2-2bad8db63937"
   },
   "outputs": [],
   "source": [
    "AfternoonData = pd.merge(afternoonWeather, data, how=\"cross\")\n",
    "#AfternoonData.to_csv(join(out, \"AfternoonDataset.csv\"))\n",
    "AfternoonData"
   ]
  },
  {
   "cell_type": "markdown",
   "metadata": {
    "id": "sANGDasHHexY"
   },
   "source": [
    "Testing 1 input default \"feels like\" vs the model to see if there is any difference"
   ]
  },
  {
   "cell_type": "code",
   "execution_count": null,
   "metadata": {
    "id": "A5oc2s4TickM"
   },
   "outputs": [],
   "source": [
    "def personalizedFeelLike(sex, age, height, weight, bmi, ci, tempC, wind, humidity):\n",
    "  # sex: all lower case\n",
    "  # age: in years\n",
    "  # height: in metres\n",
    "  # weight: in kg\n",
    "  # ci: cardiac index L/min/m^2\n",
    "  # temp: in Celcius\n",
    "  # wind: in metres per hour\n",
    "  # humidity: in %\n",
    "\n",
    "  # For men, the formula is (1.20 x BMI) + (0.23 x Age) – 16.2, while for women, it is (1.20 x BMI) + (0.23 x Age) – 5.4.\n",
    "  # Not sure what to use if the sex is \"unknown\"\n",
    "  if sex == 0:\n",
    "    percentageFat = (1.20 * bmi) + (0.23 * age) - 16.2\n",
    "  else:\n",
    "    percentageFat = (1.20 * bmi) + (0.23 * age) - 5.4\n",
    "\n",
    "  height = height / 100\n",
    "  wind = wind * 1000\n",
    "\n",
    "\n",
    "  model = JOS3(\n",
    "      height=height,\n",
    "      weight=weight,\n",
    "      fat=percentageFat,\n",
    "      age=age,\n",
    "      sex=sex,\n",
    "      ci=ci\n",
    "  )\n",
    "\n",
    "  model.tdb = tempC\n",
    "  model.v = wind\n",
    "  model.rh = humidity\n",
    "\n",
    "  model.simulate(\n",
    "      times=5,  # Number of loops of a simulation\n",
    "      dtime=20,  # Time delta [sec]. The default is 60.\n",
    "  )  # Exposure time = 30 [loops] * 60 [sec] = 30 [min]\n",
    "\n",
    "  df = pd.DataFrame(model.dict_results())\n",
    "  # df\n",
    "  return df[\"t_skin_mean\"].iloc[-1]\n",
    "\n",
    "\n",
    "def defaultFeelsLike(tempC, wind, humidity):\n",
    "  tempF = (tempC * 9/5) + 32\n",
    "  windMiles = wind/1609\n",
    "\n",
    "  feelsLikeF = 35.74 + (0.6215*tempF) - 35.75*(windMiles**0.16) + ((0.4275*tempF * windMiles**0.16))\n",
    "  feelsLikeC = (feelsLikeF - 32) * 5/9\n",
    "  return feelsLikeC"
   ]
  },
  {
   "cell_type": "markdown",
   "metadata": {
    "id": "4H2fEIdn5wJa"
   },
   "source": [
    "Add difference between **perceived temperature** and **temperature** into the dataset."
   ]
  },
  {
   "cell_type": "code",
   "execution_count": null,
   "metadata": {
    "colab": {
     "background_save": true
    },
    "id": "70rCvenjszRX"
   },
   "outputs": [],
   "source": [
    "perceivedTemps = []\n",
    "for i in range(len(MorningData)):\n",
    "  row = MorningData.iloc[i,]\n",
    "  sex = row[\"sex\"]\n",
    "  age = row[\"age\"]\n",
    "  height = row[\"height\"]\n",
    "  weight = row[\"weight\"]\n",
    "  bmi = row[\"BMI\"]\n",
    "  ci = row[\"CI\"]\n",
    "  tempC = row[\"Temp9am\"]\n",
    "  wind = row[\"WindSpeed9am\"]\n",
    "  humidity = row[\"Humidity9am\"]\n",
    "\n",
    "  perTemp = personalizedFeelLike(sex, age, height, weight, bmi, ci, tempC, wind, humidity)\n",
    "\n",
    "  perceivedTemps.append(perTemp)\n",
    "\n",
    "MorningData[\"perceivedTemp\"] = perceivedTemps\n",
    "MorningData.to_csv(join(out, \"MorningDataset.csv\"))"
   ]
  },
  {
   "cell_type": "code",
   "execution_count": null,
   "metadata": {
    "colab": {
     "base_uri": "https://localhost:8080/",
     "height": 402
    },
    "id": "YV3pmedkMUKQ",
    "outputId": "a88e5ed3-a19e-48e2-9d6c-85040465744e"
   },
   "outputs": [],
   "source": [
    "perceivedTemps = []\n",
    "for i in range(len(AfternoonData)):\n",
    "  row = AfternoonData.iloc[i,]\n",
    "  sex = row[\"sex\"]\n",
    "  age = row[\"age\"]\n",
    "  height = row[\"height\"]\n",
    "  weight = row[\"weight\"]\n",
    "  bmi = row[\"BMI\"]\n",
    "  ci = row[\"CI\"]\n",
    "  tempC = row[\"Temp3pm\"]\n",
    "  wind = row[\"WindSpeed3pm\"]\n",
    "  humidity = row[\"Humidity3pm\"]\n",
    "\n",
    "  perTemp = personalizedFeelLike(sex, age, height, weight, bmi, ci, tempC, wind, humidity)\n",
    "\n",
    "  perceivedTemps.append(perTemp)\n",
    "\n",
    "AfternoonData[\"perceivedTemp\"] = perceivedTemps\n",
    "AfternoonData.to_csv(join(out, \"AfternoonDataset.csv\"))"
   ]
  },
  {
   "cell_type": "code",
   "execution_count": null,
   "metadata": {
    "id": "HqgdQ4qnL_Vk"
   },
   "outputs": [],
   "source": [
    "AfternoonData[\"perceivedTemperature\"] = AfternoonData.apply(lambda row : personalizedFeelLike(row[\"sex\"], row[\"age\"], row[\"height\"], row[\"weight\"], row[\"BMI\"], row[\"CI\"], row[\"Temp3pm\"], row[\"WindSpeed3pm\"], row[\"Humidity3pm\"]), axis=1)\n",
    "AfternoonData"
   ]
  },
  {
   "cell_type": "code",
   "execution_count": null,
   "metadata": {
    "colab": {
     "base_uri": "https://localhost:8080/"
    },
    "id": "62p3p55SftKf",
    "outputId": "665ecbf8-79e6-43ac-bcd2-024073e917ac"
   },
   "outputs": [],
   "source": [
    "tempC = 20\n",
    "wind = 20*1000 # in m/h\n",
    "humidity = 64 # in %\n",
    "\n",
    "defResults = defaultFeelsLike(tempC, wind, humidity)\n",
    "print(\"Using default feels-like formula\")\n",
    "print(defResults)\n",
    "\n",
    "sex = \"male\"\n",
    "age = 86\n",
    "height = 173.03\n",
    "weight = 91.11\n",
    "bmi = 30.43\n",
    "ci = 2.4\n",
    "\n",
    "\n",
    "josResults = personalizedFeelLike(sex, age, height, weight, bmi, ci, tempC, wind, humidity)\n",
    "print(\"Using JOS-3\")\n",
    "print(josResults)\n",
    "\n",
    "\n",
    "sex = \"female\"\n",
    "age = 61\n",
    "height = 160.69\n",
    "weight = 74.6\n",
    "bmi = 28.89\n",
    "ci = 3.2\n",
    "\n",
    "tempC = 20\n",
    "wind = 20*1000 # in m/h\n",
    "humidity = 64 # in %\n",
    "\n",
    "\n",
    "josResults = personalizedFeelLike(sex, age, height, weight, bmi, ci, tempC, wind, humidity)\n",
    "print(\"Using JOS-3\")\n",
    "print(josResults)"
   ]
  },
  {
   "cell_type": "code",
   "execution_count": null,
   "metadata": {
    "colab": {
     "base_uri": "https://localhost:8080/",
     "height": 310
    },
    "id": "t4UOvO-Jna5d",
    "outputId": "4816a33f-ed12-4262-8269-014be863dce6"
   },
   "outputs": [],
   "source": [
    "tempC = 20\n",
    "wind = 20*1000 # in m/h\n",
    "humidity = 64 # in %\n",
    "\n",
    "defResults = defaultFeelsLike(tempC, wind, humidity)\n",
    "print(\"Using default feels-like formula\")\n",
    "print(defResults)\n",
    "\n",
    "sex = \"male\"\n",
    "age = 89\n",
    "height = 173.03/100\n",
    "weight = 91.11\n",
    "bmi = 30.43\n",
    "ci = 2.4\n",
    "\n",
    "\n",
    "josResults = personalizedFeelLike(sex, age, height, weight, bmi, tempC, wind, humidity)\n",
    "print(\"Using JOS-3\")\n",
    "print(josResults)\n",
    "\n",
    "\n",
    "sex = \"female\"\n",
    "age = 61\n",
    "height = 160.69/100\n",
    "weight = 74.6\n",
    "bmi = 28.89\n",
    "\n",
    "tempC = 20\n",
    "wind = 20*1000 # in m/h\n",
    "humidity = 64 # in %\n",
    "\n",
    "\n",
    "josResults = personalizedFeelLike(sex, age, height, weight, bmi, tempC, wind, humidity)\n",
    "print(\"Using JOS-3\")\n",
    "print(josResults)\n",
    "\n",
    "\n",
    "sex = \"female\"\n",
    "age = 19\n",
    "height = 163.42/100\n",
    "weight = 66.76\n",
    "bmi = 25.0\n",
    "\n",
    "tempC = 20\n",
    "wind = 20*1000 # in m/h\n",
    "humidity = 64 # in %\n",
    "\n",
    "\n",
    "josResults = personalizedFeelLike(sex, age, height, weight, bmi, tempC, wind, humidity)\n",
    "print(\"Using JOS-3\")\n",
    "print(josResults)\n",
    "\n",
    "\n",
    "\n",
    "# need to also take into account frequency of exercise (by some coefficient?)"
   ]
  }
 ],
 "metadata": {
  "accelerator": "TPU",
  "colab": {
   "provenance": []
  },
  "kernelspec": {
   "display_name": "Python 3 (ipykernel)",
   "language": "python",
   "name": "python3"
  },
  "language_info": {
   "codemirror_mode": {
    "name": "ipython",
    "version": 3
   },
   "file_extension": ".py",
   "mimetype": "text/x-python",
   "name": "python",
   "nbconvert_exporter": "python",
   "pygments_lexer": "ipython3",
   "version": "3.9.13"
  }
 },
 "nbformat": 4,
 "nbformat_minor": 1
}
